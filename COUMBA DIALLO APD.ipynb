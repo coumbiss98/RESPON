{
 "cells": [
  {
   "cell_type": "markdown",
   "metadata": {},
   "source": [
    "# exo1"
   ]
  },
  {
   "cell_type": "code",
   "execution_count": 3,
   "metadata": {},
   "outputs": [
    {
     "name": "stdout",
     "output_type": "stream",
     "text": [
      "entrer le premier numbre : 12\n",
      "entrer la deuxieme numbre : 54\n",
      "entrer la troixieme numbre : 23\n",
      "54 est le max\n"
     ]
    }
   ],
   "source": [
    "a=int(input(\"entrer le premier numbre : \"))\n",
    "s=int(input(\"entrer la deuxieme numbre : \"))\n",
    "m=int(input(\"entrer la troixieme numbre : \"))\n",
    "if a>s and a>m:\n",
    "    print(a, \"est le max\")\n",
    "if s>a and s>m:\n",
    "    print(s,\"est le max\")\n",
    "if m>a and m>s:\n",
    "    print(f ,\"est le max\")"
   ]
  },
  {
   "cell_type": "markdown",
   "metadata": {},
   "source": [
    "# exo2"
   ]
  },
  {
   "cell_type": "code",
   "execution_count": 5,
   "metadata": {},
   "outputs": [
    {
     "name": "stdout",
     "output_type": "stream",
     "text": [
      "entrer la lettre que vous vouler:  f\n",
      "f est un consonne\n"
     ]
    }
   ],
   "source": [
    "c=input(\"entrer la lettre que vous vouler:  \")\n",
    "if c==\"a\" or c==\"i\" or c==\"u\" or c==\"o\" or c==\"e\":\n",
    "    print(c,\"est un voyelle\")\n",
    "else:\n",
    "    print(c,\"est un consonne\")\n",
    "    "
   ]
  },
  {
   "cell_type": "markdown",
   "metadata": {},
   "source": [
    "# exo3"
   ]
  },
  {
   "cell_type": "code",
   "execution_count": 7,
   "metadata": {},
   "outputs": [
    {
     "name": "stdout",
     "output_type": "stream",
     "text": [
      "entrer le numero que vous vouler :4\n",
      "jeudi\n",
      " veuiller entrer le bon numero :\n",
      "entrer le numero que vous vouler :7\n",
      "dimanche\n"
     ]
    }
   ],
   "source": [
    "k=int(input(\"entrer le numero que vous vouler :\"))\n",
    "if k==1:\n",
    "    print(\"lundi\")\n",
    "if k==2:\n",
    "    print(\"mardi\")\n",
    "if k==3:\n",
    "    print(\"mercredi\")\n",
    "if k==4:\n",
    "    print(\"jeudi\")\n",
    "if k==5:\n",
    "    print(\"vendredi\")\n",
    "if k==6:\n",
    "    print(\"samedi\")\n",
    "if k==7:\n",
    "    print(\"dimanche\")\n",
    "else :\n",
    "    print(\" veuiller entrer le bon numero :\")\n",
    "k=int(input(\"entrer le numero que vous vouler :\"))\n",
    "if k==1:\n",
    "    print(\"lundi\")\n",
    "if k==2:\n",
    "    print(\"mardi\")\n",
    "if k==3:\n",
    "    print(\"mercredi\")\n",
    "if k==4:\n",
    "    print(\"jeudi\")\n",
    "if k==5:\n",
    "    print(\"vendredi\")\n",
    "if k==6:\n",
    "    print(\"samedi\")\n",
    "if k==7:\n",
    "    print(\"dimanche\")    "
   ]
  },
  {
   "cell_type": "markdown",
   "metadata": {},
   "source": [
    "# EXO5"
   ]
  },
  {
   "cell_type": "code",
   "execution_count": 14,
   "metadata": {},
   "outputs": [
    {
     "name": "stdout",
     "output_type": "stream",
     "text": [
      "veuiller entrer l'annee que desierer savoir s'il d'annee bissecsitile :   1996\n",
      "1996 n'est pas une annee bisectitille\n",
      "1996 n'est pas une annee bisectitille\n"
     ]
    }
   ],
   "source": [
    "jip=int(input(\"veuiller entrer l'annee que desierer savoir s'il d'annee bissecsitile :   \"))\n",
    "if jip%4==0 and \n",
    "    if jip%40S0==0  and jip%100!=0:\n",
    "    print(jip,\"est une annee bisectitille \" )\n",
    "else:\n",
    "    print(jip,\"n'est pas une annee bisectitille\")\n",
    "  \n"
   ]
  },
  {
   "cell_type": "markdown",
   "metadata": {},
   "source": [
    "# exo4"
   ]
  },
  {
   "cell_type": "code",
   "execution_count": 13,
   "metadata": {},
   "outputs": [
    {
     "name": "stdout",
     "output_type": "stream",
     "text": [
      "entrer le prix de vente : 500\n",
      "entrer le prix de fabrication : 400\n",
      "gagne\n"
     ]
    }
   ],
   "source": [
    "pdv=int(input(\"entrer le prix de vente : \"))\n",
    "pdf=int(input(\"entrer le prix de fabrication : \"))\n",
    "if pdv>pdf:\n",
    "    print(\"gagne\")\n",
    "else:\n",
    "    print(\"perdu\")"
   ]
  },
  {
   "cell_type": "markdown",
   "metadata": {},
   "source": [
    "# exo5"
   ]
  },
  {
   "cell_type": "code",
   "execution_count": 11,
   "metadata": {},
   "outputs": [
    {
     "name": "stdout",
     "output_type": "stream",
     "text": [
      "entrer le nombre d'etoile: 15\n",
      "*\n",
      "**\n",
      "***\n",
      "****\n",
      "*****\n",
      "******\n",
      "*******\n",
      "********\n",
      "*********\n",
      "**********\n",
      "***********\n",
      "************\n",
      "*************\n",
      "**************\n"
     ]
    }
   ],
   "source": [
    "e=int(input(\"entrer le nombre d'etoile: \"))\n",
    "for i in range(1,e):\n",
    "    print(i*\"*\")\n"
   ]
  },
  {
   "cell_type": "markdown",
   "metadata": {},
   "source": [
    "# exo6"
   ]
  },
  {
   "cell_type": "code",
   "execution_count": 4,
   "metadata": {},
   "outputs": [
    {
     "name": "stdout",
     "output_type": "stream",
     "text": [
      "entrer le motinformatique\n",
      "6 est le nombre de voiyelle de informatique\n"
     ]
    }
   ],
   "source": [
    "mo=input(\"entrer le mot\")\n",
    "nv=0\n",
    "n=len(mo)\n",
    "for i in range(0,n):\n",
    "     if mo[i] in[\"a\",\"o\",\"u\",\"e\",\"i\"]:\n",
    "            nv=nv+1\n",
    "print(nv,\"est le nombre de voiyelle de\",mo)    "
   ]
  },
  {
   "cell_type": "markdown",
   "metadata": {},
   "source": [
    "# exo8"
   ]
  },
  {
   "cell_type": "code",
   "execution_count": 12,
   "metadata": {},
   "outputs": [
    {
     "name": "stdout",
     "output_type": "stream",
     "text": [
      "bonjour: 18\n",
      "18 17 16\n",
      "15 14 13\n",
      "12 11 10\n",
      "9 8 7\n",
      "6 5 4\n",
      "3 2\n"
     ]
    }
   ],
   "source": [
    "input((\"bonjour: \"))\n",
    "i=0\n",
    "while i<6:\n",
    "        i=i+1\n",
    "        if i==1:\n",
    "            m=18\n",
    "            n=17\n",
    "            o=16\n",
    "            print(m,n,o)\n",
    "        if i==2:\n",
    "            p=15\n",
    "            q=14\n",
    "            r=13\n",
    "            print(p,q,r)\n",
    "        if i==3:\n",
    "            s=12\n",
    "            t=11\n",
    "            u=10\n",
    "            print(s,t,u)\n",
    "        if i==4:\n",
    "            v=9\n",
    "            w=8\n",
    "            x=7\n",
    "            print(v,w,x)\n",
    "        if i==5:\n",
    "            y=6\n",
    "            z=5\n",
    "            a=4\n",
    "            print(y,z,a)\n",
    "        if i==6:\n",
    "            d=3\n",
    "            e=2\n",
    "            f=1\n",
    "            print(d,e,f)\n",
    "            \n",
    "\n",
    "\n",
    "    \n"
   ]
  },
  {
   "cell_type": "markdown",
   "metadata": {},
   "source": [
    "# exo9"
   ]
  },
  {
   "cell_type": "code",
   "execution_count": 35,
   "metadata": {},
   "outputs": [
    {
     "name": "stdout",
     "output_type": "stream",
     "text": [
      "entrer note n°:  0\n",
      "12\n",
      "entrer note n°:  1\n",
      "3\n",
      "entrer note n°:  2\n",
      "4\n",
      "entrer note n°:  3\n",
      "5\n",
      "entrer note n°:  4\n",
      "6\n",
      "entrer note n°:  5\n",
      "7\n",
      "entrer note n°:  6\n",
      "8\n",
      "entrer note n°:  7\n",
      "9\n",
      "entrer note n°:  8\n",
      "19\n",
      "entrer note n°:  9\n",
      "14\n",
      "20 est le max\n",
      "0 est le mimimale\n",
      "1.4 est la moyenne\n"
     ]
    }
   ],
   "source": [
    "maxi=20\n",
    "mini=0\n",
    "n=10\n",
    "for i in range(0,10):\n",
    "    print(\"entrer note n°: \",i)\n",
    "    a=float(input())\n",
    "    while a>20 and a<0:\n",
    "        a=float(input(\"entrer note n°: \"))\n",
    "        a=float(input())\n",
    "        s=s+1\n",
    "        if a>maxi:\n",
    "            maxi=a\n",
    "        else:\n",
    "            mini=a\n",
    "    moyenne=a/n    \n",
    "print( maxi,\"est le max\")\n",
    "print( mini,\"est le mimimale\")\n",
    "print(moyenne,\"est la moyenne\")          \n",
    "          \n",
    "\n",
    "\n",
    "\n",
    "\n"
   ]
  },
  {
   "cell_type": "markdown",
   "metadata": {},
   "source": [
    "# ex10"
   ]
  },
  {
   "cell_type": "code",
   "execution_count": 24,
   "metadata": {},
   "outputs": [
    {
     "name": "stdout",
     "output_type": "stream",
     "text": [
      " bonjour\n",
      " repond: est tu adulte\n",
      " est tu adulte\n",
      " repond:oui\n",
      " au revoir\n"
     ]
    }
   ],
   "source": [
    "print(\" bonjour\")\n",
    "input(\" repond: \")\n",
    "print(\" est tu adulte\")\n",
    "a=input(\" repond:\")\n",
    "if a!=\"oui\" and a!=\"non\":\n",
    "    print(\" veuiller repondre par oui ou non svp\")\n",
    "print(\" au revoir\")\n"
   ]
  },
  {
   "cell_type": "markdown",
   "metadata": {},
   "source": [
    "# exo11"
   ]
  },
  {
   "cell_type": "code",
   "execution_count": 8,
   "metadata": {},
   "outputs": [
    {
     "ename": "IndentationError",
     "evalue": "unindent does not match any outer indentation level (<tokenize>, line 11)",
     "output_type": "error",
     "traceback": [
      "\u001b[1;36m  File \u001b[1;32m\"<tokenize>\"\u001b[1;36m, line \u001b[1;32m11\u001b[0m\n\u001b[1;33m    else :\u001b[0m\n\u001b[1;37m    ^\u001b[0m\n\u001b[1;31mIndentationError\u001b[0m\u001b[1;31m:\u001b[0m unindent does not match any outer indentation level\n"
     ]
    }
   ],
   "source": [
    "import random\n",
    "n=random.randint(1,100)\n",
    "nb=random.randint(67)\n",
    "while (nb !=n):\n",
    "    print(\" entrer un nombre entre 1 et 100\")\n",
    "    nb= input()\n",
    "if nb<n:\n",
    "        print(\"c'est plus\")\n",
    "if nb>n:\n",
    "        print(\"c'est moins\")\n",
    "    else :\n",
    "        print(\"print test!!!!\")"
   ]
  },
  {
   "cell_type": "markdown",
   "metadata": {},
   "source": [
    "# exo12"
   ]
  },
  {
   "cell_type": "code",
   "execution_count": 26,
   "metadata": {},
   "outputs": [
    {
     "ename": "IndentationError",
     "evalue": "unexpected indent (<ipython-input-26-e4ed1acfd5a8>, line 4)",
     "output_type": "error",
     "traceback": [
      "\u001b[1;36m  File \u001b[1;32m\"<ipython-input-26-e4ed1acfd5a8>\"\u001b[1;36m, line \u001b[1;32m4\u001b[0m\n\u001b[1;33m    print(\"le pgcd de \",a et,b\"est donc\",r)\u001b[0m\n\u001b[1;37m    ^\u001b[0m\n\u001b[1;31mIndentationError\u001b[0m\u001b[1;31m:\u001b[0m unexpected indent\n"
     ]
    }
   ],
   "source": [
    "a=eval(input(\"valeur a\"))\n",
    "b=eval(input(\" valeur b\"))\n",
    "r=a%b\n",
    "   print(\"le pgcd de \",a et,b\"est donc\",r)"
   ]
  },
  {
   "cell_type": "markdown",
   "metadata": {},
   "source": [
    "# exo13\n"
   ]
  },
  {
   "cell_type": "code",
   "execution_count": 77,
   "metadata": {},
   "outputs": [
    {
     "name": "stdout",
     "output_type": "stream",
     "text": [
      "0 1 2 3 4 5 6 7 8 9 \n",
      "0 1 2 3 4 5 6 7 8 9 \n",
      "0 1 2 3 4 5 6 7 8 9 \n",
      "0 1 2 3 4 5 6 7 8 9 \n",
      "0 1 2 3 4 5 6 7 8 9 \n"
     ]
    }
   ],
   "source": [
    "for i in range(1,6):\n",
    "    for i in range(10):\n",
    "        print(i, end=\" \")\n",
    "    print()    "
   ]
  },
  {
   "cell_type": "markdown",
   "metadata": {},
   "source": [
    "# exo14"
   ]
  },
  {
   "cell_type": "code",
   "execution_count": 57,
   "metadata": {},
   "outputs": [
    {
     "name": "stdout",
     "output_type": "stream",
     "text": [
      "la somme est : 0\n"
     ]
    }
   ],
   "source": [
    "so=0\n",
    "i=1\n",
    "while i<=4:\n",
    "    i=i+1\n",
    "print(\"la somme est :\",so)    "
   ]
  },
  {
   "cell_type": "markdown",
   "metadata": {},
   "source": [
    "# exo15"
   ]
  },
  {
   "cell_type": "code",
   "execution_count": 28,
   "metadata": {},
   "outputs": [
    {
     "name": "stdout",
     "output_type": "stream",
     "text": [
      "1445\n"
     ]
    }
   ],
   "source": [
    "som=0\n",
    "for i in range(1,10,2):\n",
    "    som+=n**2\n",
    "print(som)    "
   ]
  },
  {
   "cell_type": "markdown",
   "metadata": {},
   "source": [
    "# exo16"
   ]
  },
  {
   "cell_type": "code",
   "execution_count": null,
   "metadata": {},
   "outputs": [],
   "source": [
    "a=0\n",
    "while 1<150:\n",
    "    a=a+1\n",
    "if (1%7==0):\n",
    "    print(a)"
   ]
  },
  {
   "cell_type": "markdown",
   "metadata": {},
   "source": [
    "# exo17"
   ]
  },
  {
   "cell_type": "code",
   "execution_count": 65,
   "metadata": {},
   "outputs": [
    {
     "name": "stdout",
     "output_type": "stream",
     "text": [
      "49\n"
     ]
    }
   ],
   "source": [
    "for i in range(50):\n",
    "    while i**2>1000:\n",
    "        break\n",
    "print(i)\n"
   ]
  },
  {
   "cell_type": "markdown",
   "metadata": {},
   "source": [
    "# exo18"
   ]
  },
  {
   "cell_type": "code",
   "execution_count": 16,
   "metadata": {},
   "outputs": [
    {
     "name": "stdout",
     "output_type": "stream",
     "text": [
      "entre votre nombre153\n"
     ]
    }
   ],
   "source": [
    "cou=0\n",
    "cou=int(input(\"entre votre nombre\"))\n",
    "while cou<153:\n",
    "        print(cou,\"est un nombre amstrong\")   \n",
    "    \n",
    "     \n",
    "        \n"
   ]
  },
  {
   "cell_type": "markdown",
   "metadata": {},
   "source": [
    "# exo19"
   ]
  },
  {
   "cell_type": "code",
   "execution_count": 12,
   "metadata": {},
   "outputs": [
    {
     "name": "stdout",
     "output_type": "stream",
     "text": [
      "2\n"
     ]
    }
   ],
   "source": [
    "ml=100\n",
    "p=0\n",
    "for i in range(2,100):\n",
    "    for j in range(1,100):\n",
    "        if i%j==0:\n",
    "            p=p+i\n",
    "        if p==i:\n",
    "            if p<ml:\n",
    "                print(i)        \n",
    "    \n",
    "    \n",
    "    "
   ]
  },
  {
   "cell_type": "code",
   "execution_count": null,
   "metadata": {},
   "outputs": [],
   "source": []
  }
 ],
 "metadata": {
  "kernelspec": {
   "display_name": "Python 3",
   "language": "python",
   "name": "python3"
  },
  "language_info": {
   "codemirror_mode": {
    "name": "ipython",
    "version": 3
   },
   "file_extension": ".py",
   "mimetype": "text/x-python",
   "name": "python",
   "nbconvert_exporter": "python",
   "pygments_lexer": "ipython3",
   "version": "3.8.5"
  }
 },
 "nbformat": 4,
 "nbformat_minor": 5
}
